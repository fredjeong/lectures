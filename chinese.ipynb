{
 "cells": [
  {
   "cell_type": "code",
   "execution_count": 55,
   "metadata": {},
   "outputs": [
    {
     "name": "stdout",
     "output_type": "stream",
     "text": [
      "Defaulting to user installation because normal site-packages is not writeable\n",
      "Collecting selenium\n",
      "  Downloading selenium-4.26.1-py3-none-any.whl.metadata (7.1 kB)\n",
      "Requirement already satisfied: urllib3<3,>=1.26 in /Users/fredjeong/Library/Python/3.9/lib/python/site-packages (from urllib3[socks]<3,>=1.26->selenium) (1.26.6)\n",
      "Collecting trio~=0.17 (from selenium)\n",
      "  Downloading trio-0.27.0-py3-none-any.whl.metadata (8.6 kB)\n",
      "Collecting trio-websocket~=0.9 (from selenium)\n",
      "  Downloading trio_websocket-0.11.1-py3-none-any.whl.metadata (4.7 kB)\n",
      "Requirement already satisfied: certifi>=2021.10.8 in /Users/fredjeong/Library/Python/3.9/lib/python/site-packages (from selenium) (2023.11.17)\n",
      "Requirement already satisfied: typing_extensions~=4.9 in /Users/fredjeong/Library/Python/3.9/lib/python/site-packages (from selenium) (4.9.0)\n",
      "Collecting websocket-client~=1.8 (from selenium)\n",
      "  Downloading websocket_client-1.8.0-py3-none-any.whl.metadata (8.0 kB)\n",
      "Requirement already satisfied: attrs>=23.2.0 in /Users/fredjeong/Library/Python/3.9/lib/python/site-packages (from trio~=0.17->selenium) (23.2.0)\n",
      "Collecting sortedcontainers (from trio~=0.17->selenium)\n",
      "  Downloading sortedcontainers-2.4.0-py2.py3-none-any.whl.metadata (10 kB)\n",
      "Requirement already satisfied: idna in /Users/fredjeong/Library/Python/3.9/lib/python/site-packages (from trio~=0.17->selenium) (3.6)\n",
      "Collecting outcome (from trio~=0.17->selenium)\n",
      "  Downloading outcome-1.3.0.post0-py2.py3-none-any.whl.metadata (2.6 kB)\n",
      "Requirement already satisfied: sniffio>=1.3.0 in /Users/fredjeong/Library/Python/3.9/lib/python/site-packages (from trio~=0.17->selenium) (1.3.0)\n",
      "Requirement already satisfied: exceptiongroup in /Users/fredjeong/Library/Python/3.9/lib/python/site-packages (from trio~=0.17->selenium) (1.2.0)\n",
      "Collecting wsproto>=0.14 (from trio-websocket~=0.9->selenium)\n",
      "  Downloading wsproto-1.2.0-py3-none-any.whl.metadata (5.6 kB)\n",
      "Collecting PySocks!=1.5.7,<2.0,>=1.5.6 (from urllib3[socks]<3,>=1.26->selenium)\n",
      "  Downloading PySocks-1.7.1-py3-none-any.whl.metadata (13 kB)\n",
      "Collecting h11<1,>=0.9.0 (from wsproto>=0.14->trio-websocket~=0.9->selenium)\n",
      "  Using cached h11-0.14.0-py3-none-any.whl.metadata (8.2 kB)\n",
      "Downloading selenium-4.26.1-py3-none-any.whl (9.7 MB)\n",
      "\u001b[2K   \u001b[90m━━━━━━━━━━━━━━━━━━━━━━━━━━━━━━━━━━━━━━━━\u001b[0m \u001b[32m9.7/9.7 MB\u001b[0m \u001b[31m16.9 MB/s\u001b[0m eta \u001b[36m0:00:00\u001b[0ma \u001b[36m0:00:01\u001b[0m\n",
      "\u001b[?25hDownloading trio-0.27.0-py3-none-any.whl (481 kB)\n",
      "Downloading trio_websocket-0.11.1-py3-none-any.whl (17 kB)\n",
      "Downloading websocket_client-1.8.0-py3-none-any.whl (58 kB)\n",
      "Downloading PySocks-1.7.1-py3-none-any.whl (16 kB)\n",
      "Downloading wsproto-1.2.0-py3-none-any.whl (24 kB)\n",
      "Downloading outcome-1.3.0.post0-py2.py3-none-any.whl (10 kB)\n",
      "Downloading sortedcontainers-2.4.0-py2.py3-none-any.whl (29 kB)\n",
      "Using cached h11-0.14.0-py3-none-any.whl (58 kB)\n",
      "Installing collected packages: sortedcontainers, websocket-client, PySocks, outcome, h11, wsproto, trio, trio-websocket, selenium\n",
      "  Attempting uninstall: websocket-client\n",
      "    Found existing installation: websocket-client 1.7.0\n",
      "    Uninstalling websocket-client-1.7.0:\n",
      "      Successfully uninstalled websocket-client-1.7.0\n",
      "Successfully installed PySocks-1.7.1 h11-0.14.0 outcome-1.3.0.post0 selenium-4.26.1 sortedcontainers-2.4.0 trio-0.27.0 trio-websocket-0.11.1 websocket-client-1.8.0 wsproto-1.2.0\n",
      "\n",
      "\u001b[1m[\u001b[0m\u001b[34;49mnotice\u001b[0m\u001b[1;39;49m]\u001b[0m\u001b[39;49m A new release of pip is available: \u001b[0m\u001b[31;49m24.2\u001b[0m\u001b[39;49m -> \u001b[0m\u001b[32;49m24.3.1\u001b[0m\n",
      "\u001b[1m[\u001b[0m\u001b[34;49mnotice\u001b[0m\u001b[1;39;49m]\u001b[0m\u001b[39;49m To update, run: \u001b[0m\u001b[32;49m/Library/Developer/CommandLineTools/usr/bin/python3 -m pip install --upgrade pip\u001b[0m\n"
     ]
    }
   ],
   "source": [
    "!pip install selenium\n",
    "!pip install webdriver_manager"
   ]
  },
  {
   "cell_type": "code",
   "execution_count": 157,
   "metadata": {},
   "outputs": [],
   "source": [
    "import pandas as pd\n",
    "\n",
    "df = pd.DataFrame(columns = ['단어', '병음', '의미'])\n",
    "\n",
    "df.to_csv('./chinese_dic.csv', encoding = 'utf-8-sig', header=True, index=False)"
   ]
  },
  {
   "cell_type": "code",
   "execution_count": 163,
   "metadata": {},
   "outputs": [],
   "source": [
    "from selenium import webdriver\n",
    "from selenium.webdriver.common.by import By\n",
    "from selenium.webdriver.chrome.service import Service\n",
    "from webdriver_manager.chrome import ChromeDriverManager  # 자동으로 chromedriver 설치 및 관리\n",
    "import time\n",
    "import sys\n",
    "sys.stdin = open('./input.txt', 'r')\n",
    "input = sys.stdin.readline\n",
    "\n",
    "# Selenium 설정\n",
    "options = webdriver.ChromeOptions()\n",
    "options.add_argument(\"--headless\")  # 브라우저 창을 띄우지 않고 실행하려면 추가\n",
    "options.add_argument(\"--no-sandbox\")\n",
    "options.add_argument(\"--disable-dev-shm-usage\")\n",
    "driver = webdriver.Chrome(service=Service(ChromeDriverManager().install()), options=options)\n",
    "\n",
    "class Crawler():\n",
    "    def __init__(self):\n",
    "        self.word_list = []\n",
    "        while True:\n",
    "            word = input().strip()\n",
    "            if not word:\n",
    "                break\n",
    "            self.word_list.append(word)\n",
    "\n",
    "    def load_original_file(self):\n",
    "        self.df = pd.read_csv(\"./chinese_dic.csv\")\n",
    "\n",
    "    def run(self):\n",
    "        for word in self.word_list:\n",
    "            self.get_word_info(word)\n",
    "        self.df.to_csv('./chinese_dic.csv', header=True, encoding = 'utf-8-sig', index=False)\n",
    "\n",
    "    def get_word_info(self, word):\n",
    "        if self.df['단어'].isin([word]).any():\n",
    "            return\n",
    "        \n",
    "        url = f\"https://zh.dict.naver.com/#/search?query={word}\"  # 네이버 사전 URL로 대체\n",
    "        driver.get(url)\n",
    "        \n",
    "        # 페이지가 완전히 로드될 때까지 대기\n",
    "        time.sleep(2)  # 네트워크 상태에 따라 대기 시간을 조정할 수 있습니다.\n",
    "        \n",
    "        # 병음 가져오기\n",
    "\n",
    "        pinyin = driver.find_element(By.CSS_SELECTOR, 'span.pronounce').text  # 실제 CSS 선택자로 수정\n",
    "        pinyin = pinyin.replace('[', '').replace(']', '').strip()\n",
    "        #meaning = driver.find_element(By.CSS_SELECTOR, 'p.mean').text\n",
    "        # 전체 의미 텍스트 가져오기\n",
    "        meaning_element = driver.find_element(By.CSS_SELECTOR, 'p.mean')\n",
    "        meaning_text = meaning_element.text\n",
    "\n",
    "        # \"성어\" 부분을 포함한 첫 번째 문구를 제거\n",
    "        # \"성어 \" 부분 이후의 텍스트만 추출\n",
    "        if meaning_element.find_elements(By.CSS_SELECTOR, 'span.mark'):\n",
    "            mark_text = meaning_element.find_element(By.CSS_SELECTOR, 'span.mark').text\n",
    "            meaning_text = meaning_text.replace(mark_text, \"\").strip()\n",
    "        if meaning_element.find_elements(By.CSS_SELECTOR, 'span.word_class'):\n",
    "            class_text = meaning_element.find_element(By.CSS_SELECTOR, 'span.word_class').text\n",
    "            meaning_text = meaning_text.replace(class_text, \"\").strip()\n",
    "            \n",
    "        temp = pd.DataFrame({'단어': [word], \"병음\": [pinyin], '의미': [meaning_text]})\n",
    "        self.df = pd.concat([self.df, temp], ignore_index = True)"
   ]
  },
  {
   "cell_type": "code",
   "execution_count": 164,
   "metadata": {},
   "outputs": [],
   "source": [
    "instance = Crawler()\n",
    "instance.load_original_file()\n",
    "instance.run()"
   ]
  },
  {
   "cell_type": "code",
   "execution_count": 165,
   "metadata": {},
   "outputs": [],
   "source": [
    "# Selenium 종료\n",
    "driver.quit()"
   ]
  },
  {
   "cell_type": "code",
   "execution_count": null,
   "metadata": {},
   "outputs": [],
   "source": []
  }
 ],
 "metadata": {
  "kernelspec": {
   "display_name": "Python 3",
   "language": "python",
   "name": "python3"
  },
  "language_info": {
   "codemirror_mode": {
    "name": "ipython",
    "version": 3
   },
   "file_extension": ".py",
   "mimetype": "text/x-python",
   "name": "python",
   "nbconvert_exporter": "python",
   "pygments_lexer": "ipython3",
   "version": "3.9.6"
  }
 },
 "nbformat": 4,
 "nbformat_minor": 2
}
